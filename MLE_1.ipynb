{
  "nbformat": 4,
  "nbformat_minor": 0,
  "metadata": {
    "colab": {
      "provenance": []
    },
    "kernelspec": {
      "name": "python3",
      "display_name": "Python 3"
    },
    "language_info": {
      "name": "python"
    }
  },
  "cells": [
    {
      "cell_type": "markdown",
      "source": [
        "# Week-4: Part-1\n"
      ],
      "metadata": {
        "id": "53TcQvUOjGxr"
      }
    },
    {
      "cell_type": "code",
      "source": [
        "import numpy as np\n",
        "import matplotlib.pyplot as plt\n",
        "# Set size of figure width and height\n",
        "plt.rcParams['figure.figsize'] = [8, 8]\n",
        "# Set size of font\n",
        "plt.rcParams['font.size'] = 10"
      ],
      "metadata": {
        "id": "FasmVZvHPgMW"
      },
      "execution_count": null,
      "outputs": []
    },
    {
      "cell_type": "markdown",
      "source": [
        "## Sampling\n",
        "\n",
        "Sampling from a distribution is an important skill. While learning ML, it is often a good idea to work with toy-datasets. These toy-datasets can be generated from well known distributions such as the Bernoulli and Gaussian. The next section will introduce the idea of sampling in NumPy."
      ],
      "metadata": {
        "id": "7A9Gri4ZP1oK"
      }
    },
    {
      "cell_type": "markdown",
      "source": [
        "### Random number generator\n",
        "\n",
        "We can sample from distributions with the help of a random number generator:"
      ],
      "metadata": {
        "id": "-Pu7bCK2QsXZ"
      }
    },
    {
      "cell_type": "code",
      "source": [
        "rng = np.random.default_rng(seed=42)\n",
        "rng.random()\n",
        "#seed will give us the same sampled data point in each run."
      ],
      "metadata": {
        "id": "srJG5sWKQNj8",
        "outputId": "84900c5c-95be-49c5-d3ef-1277e908594a",
        "colab": {
          "base_uri": "https://localhost:8080/"
        }
      },
      "execution_count": null,
      "outputs": [
        {
          "output_type": "execute_result",
          "data": {
            "text/plain": [
              "0.7739560485559633"
            ]
          },
          "metadata": {},
          "execution_count": 3
        }
      ]
    },
    {
      "cell_type": "markdown",
      "source": [
        "We will start by generating a dataset of ones and zeros. The following code generates a sample of size $10$."
      ],
      "metadata": {
        "id": "zupDoZTNQ6i0"
      }
    },
    {
      "cell_type": "code",
      "source": [
        "rng = np.random.default_rng(seed = 1001)\n",
        "X = rng.integers(0, 2, size = 10)\n",
        "X"
      ],
      "metadata": {
        "colab": {
          "base_uri": "https://localhost:8080/"
        },
        "id": "aQqjseA3RYkB",
        "outputId": "50d48844-dc1c-4a8b-8d67-978683ebdbc2"
      },
      "execution_count": null,
      "outputs": [
        {
          "output_type": "execute_result",
          "data": {
            "text/plain": [
              "array([1, 1, 1, 0, 1, 0, 1, 1, 0, 0])"
            ]
          },
          "metadata": {},
          "execution_count": 4
        }
      ]
    },
    {
      "cell_type": "markdown",
      "source": [
        "Notice that we have used a seed value as an argument to the random number generator. This is meant to ensure reproducability. That is, no matter how many times this cell is run, we will get the same sequence of random numbers. First run the cell a few times to verify that this is true. Now, run the cell with a different seed value and see what happens."
      ],
      "metadata": {
        "id": "1SMcmJIeRxNq"
      }
    },
    {
      "cell_type": "markdown",
      "source": [
        "## Problem-1\n",
        "\n",
        "For the dataset `X` given below, what is the maximum likelihood estimate of the mean if we use a Bernoulli distribution with parameter $p$ to model this data? Perform all your operations in the cell given below. Do not change the seed value. Enter your answer correct to three decimal places."
      ],
      "metadata": {
        "id": "3hZYSGhISplV"
      }
    },
    {
      "cell_type": "code",
      "source": [
        "### Data ###\n",
        "rng = np.random.default_rng(seed = 1001)\n",
        "X = rng.integers(0, 2, size = 1000)\n",
        "### Solution ###\n",
        "X.mean()"
      ],
      "metadata": {
        "id": "9G8arNCoSiGs",
        "outputId": "1c944017-3311-4003-b609-d343a035eab7",
        "colab": {
          "base_uri": "https://localhost:8080/"
        }
      },
      "execution_count": null,
      "outputs": [
        {
          "output_type": "execute_result",
          "data": {
            "text/plain": [
              "0.506"
            ]
          },
          "metadata": {},
          "execution_count": 60
        }
      ]
    },
    {
      "cell_type": "markdown",
      "source": [
        "What happens if we increase the size of the dataset to $10000$? We see that `np.integers` is only giving us observations from a discrete uniform distribution. In other words, if you think about it as a coin toss, the coin is unbiased. How do we generate samples from a biased coin or a Bernoulli distribution with $p \\neq 0.5$? We use a method called `choice`. This method \"chooses\" numbers from a list or an array based on the probabilities given to it in the array `p`."
      ],
      "metadata": {
        "id": "x3Xy5GoJTA4E"
      }
    },
    {
      "cell_type": "code",
      "source": [
        "rng = np.random.default_rng(seed = 1001)\n",
        "X = rng.choice([0, 1,2], size = 20, p = [0.2, 0.3,0.5])\n",
        "X"
      ],
      "metadata": {
        "colab": {
          "base_uri": "https://localhost:8080/"
        },
        "id": "8y-D9idxTb_H",
        "outputId": "dd6aa211-235d-408e-f319-b01910e7214b"
      },
      "execution_count": null,
      "outputs": [
        {
          "output_type": "execute_result",
          "data": {
            "text/plain": [
              "array([2, 0, 0, 2, 0, 1, 2, 0, 0, 0, 0, 2, 2, 1, 1, 1, 1, 2, 0, 1])"
            ]
          },
          "metadata": {},
          "execution_count": 61
        }
      ]
    },
    {
      "cell_type": "markdown",
      "source": [
        "Note that the array `p` specifies the probabilities of $0$ and $1$."
      ],
      "metadata": {
        "id": "bem3q_teT25M"
      }
    },
    {
      "cell_type": "markdown",
      "source": [
        "## Problem-2\n",
        "\n",
        "Sample $1000$ points from a  Bernoulli distribution whose parameter is $p = 0.7$. Compute the maximum likelihood estimate of the parameter given this sample. Perform all your operations in the cell given below. Enter your answer correct to three decimal places.\n",
        "\n",
        "**Note**:\n",
        "\n",
        "- The parameter $p$ of a Bernoulli distribution always points to $P(x = 1)$.\n",
        "\n",
        "- It may seem pointless to compute the MLE when the parameter is already known to us. But this is a good exercise to verify our understanding of concepts with such toy-datasets."
      ],
      "metadata": {
        "id": "hlCA6LGoT_II"
      }
    },
    {
      "cell_type": "code",
      "source": [
        "### RNG ###\n",
        "rng = np.random.default_rng(seed = 1001)\n",
        "### Solution ###\n",
        "X=rng.choice([0,1],size=1000,p=[0.3,0.7])\n",
        "X.mean()"
      ],
      "metadata": {
        "id": "w_-xhU84UPZZ",
        "outputId": "2f724d8d-4cfe-4bb5-a533-e70ee62fd004",
        "colab": {
          "base_uri": "https://localhost:8080/"
        }
      },
      "execution_count": null,
      "outputs": [
        {
          "output_type": "execute_result",
          "data": {
            "text/plain": [
              "0.707"
            ]
          },
          "metadata": {},
          "execution_count": 62
        }
      ]
    },
    {
      "cell_type": "code",
      "source": [
        "# X=np.array([1,1,12,2,2,2])\n",
        "# X[X==2]"
      ],
      "metadata": {
        "id": "kf3QApJl9Ara"
      },
      "execution_count": null,
      "outputs": []
    },
    {
      "cell_type": "markdown",
      "source": [
        "## Problem-3\n",
        "\n",
        "Plot a bar graph of the above sample. You can use the `plt.bar` method. To know more about a method in Google Colab type `plt.bar?` in a cell and run it."
      ],
      "metadata": {
        "id": "GBiZn4OIU0JX"
      }
    },
    {
      "cell_type": "code",
      "source": [
        "plt.bar"
      ],
      "metadata": {
        "id": "A6SsARxgsLQK",
        "outputId": "fe35b99d-60fa-496b-8f68-85fc58804a93",
        "colab": {
          "base_uri": "https://localhost:8080/",
          "height": 221
        }
      },
      "execution_count": null,
      "outputs": [
        {
          "output_type": "execute_result",
          "data": {
            "text/plain": [
              "<function matplotlib.pyplot.bar(x: 'float | ArrayLike', height: 'float | ArrayLike', width: 'float | ArrayLike' = 0.8, bottom: 'float | ArrayLike | None' = None, *, align: \"Literal['center', 'edge']\" = 'center', data=None, **kwargs) -> 'BarContainer'>"
            ],
            "text/html": [
              "<div style=\"max-width:800px; border: 1px solid var(--colab-border-color);\"><style>\n",
              "      pre.function-repr-contents {\n",
              "        overflow-x: auto;\n",
              "        padding: 8px 12px;\n",
              "        max-height: 500px;\n",
              "      }\n",
              "\n",
              "      pre.function-repr-contents.function-repr-contents-collapsed {\n",
              "        cursor: pointer;\n",
              "        max-height: 100px;\n",
              "      }\n",
              "    </style>\n",
              "    <pre style=\"white-space: initial; background:\n",
              "         var(--colab-secondary-surface-color); padding: 8px 12px;\n",
              "         border-bottom: 1px solid var(--colab-border-color);\"><b>matplotlib.pyplot.bar</b><br/>def bar(x: float | ArrayLike, height: float | ArrayLike, width: float | ArrayLike=0.8, bottom: float | ArrayLike | None=None, *, align: Literal[&#x27;center&#x27;, &#x27;edge&#x27;]=&#x27;center&#x27;, data=None, **kwargs) -&gt; BarContainer</pre><pre class=\"function-repr-contents function-repr-contents-collapsed\" style=\"\"><a class=\"filepath\" style=\"display:none\" href=\"#\">/usr/local/lib/python3.10/dist-packages/matplotlib/pyplot.py</a>Make a bar plot.\n",
              "\n",
              "The bars are positioned at *x* with the given *align*\\ment. Their\n",
              "dimensions are given by *height* and *width*. The vertical baseline\n",
              "is *bottom* (default 0).\n",
              "\n",
              "Many parameters can take either a single value applying to all bars\n",
              "or a sequence of values, one for each bar.\n",
              "\n",
              "Parameters\n",
              "----------\n",
              "x : float or array-like\n",
              "    The x coordinates of the bars. See also *align* for the\n",
              "    alignment of the bars to the coordinates.\n",
              "\n",
              "height : float or array-like\n",
              "    The height(s) of the bars.\n",
              "\n",
              "    Note that if *bottom* has units (e.g. datetime), *height* should be in\n",
              "    units that are a difference from the value of *bottom* (e.g. timedelta).\n",
              "\n",
              "width : float or array-like, default: 0.8\n",
              "    The width(s) of the bars.\n",
              "\n",
              "    Note that if *x* has units (e.g. datetime), then *width* should be in\n",
              "    units that are a difference (e.g. timedelta) around the *x* values.\n",
              "\n",
              "bottom : float or array-like, default: 0\n",
              "    The y coordinate(s) of the bottom side(s) of the bars.\n",
              "\n",
              "    Note that if *bottom* has units, then the y-axis will get a Locator and\n",
              "    Formatter appropriate for the units (e.g. dates, or categorical).\n",
              "\n",
              "align : {&#x27;center&#x27;, &#x27;edge&#x27;}, default: &#x27;center&#x27;\n",
              "    Alignment of the bars to the *x* coordinates:\n",
              "\n",
              "    - &#x27;center&#x27;: Center the base on the *x* positions.\n",
              "    - &#x27;edge&#x27;: Align the left edges of the bars with the *x* positions.\n",
              "\n",
              "    To align the bars on the right edge pass a negative *width* and\n",
              "    ``align=&#x27;edge&#x27;``.\n",
              "\n",
              "Returns\n",
              "-------\n",
              "`.BarContainer`\n",
              "    Container with all the bars and optionally errorbars.\n",
              "\n",
              "Other Parameters\n",
              "----------------\n",
              "color : color or list of color, optional\n",
              "    The colors of the bar faces.\n",
              "\n",
              "edgecolor : color or list of color, optional\n",
              "    The colors of the bar edges.\n",
              "\n",
              "linewidth : float or array-like, optional\n",
              "    Width of the bar edge(s). If 0, don&#x27;t draw edges.\n",
              "\n",
              "tick_label : str or list of str, optional\n",
              "    The tick labels of the bars.\n",
              "    Default: None (Use default numeric labels.)\n",
              "\n",
              "label : str or list of str, optional\n",
              "    A single label is attached to the resulting `.BarContainer` as a\n",
              "    label for the whole dataset.\n",
              "    If a list is provided, it must be the same length as *x* and\n",
              "    labels the individual bars. Repeated labels are not de-duplicated\n",
              "    and will cause repeated label entries, so this is best used when\n",
              "    bars also differ in style (e.g., by passing a list to *color*.)\n",
              "\n",
              "xerr, yerr : float or array-like of shape(N,) or shape(2, N), optional\n",
              "    If not *None*, add horizontal / vertical errorbars to the bar tips.\n",
              "    The values are +/- sizes relative to the data:\n",
              "\n",
              "    - scalar: symmetric +/- values for all bars\n",
              "    - shape(N,): symmetric +/- values for each bar\n",
              "    - shape(2, N): Separate - and + values for each bar. First row\n",
              "      contains the lower errors, the second row contains the upper\n",
              "      errors.\n",
              "    - *None*: No errorbar. (Default)\n",
              "\n",
              "    See :doc:`/gallery/statistics/errorbar_features` for an example on\n",
              "    the usage of *xerr* and *yerr*.\n",
              "\n",
              "ecolor : color or list of color, default: &#x27;black&#x27;\n",
              "    The line color of the errorbars.\n",
              "\n",
              "capsize : float, default: :rc:`errorbar.capsize`\n",
              "   The length of the error bar caps in points.\n",
              "\n",
              "error_kw : dict, optional\n",
              "    Dictionary of keyword arguments to be passed to the\n",
              "    `~.Axes.errorbar` method. Values of *ecolor* or *capsize* defined\n",
              "    here take precedence over the independent keyword arguments.\n",
              "\n",
              "log : bool, default: False\n",
              "    If *True*, set the y-axis to be log scale.\n",
              "\n",
              "data : indexable object, optional\n",
              "    If given, all parameters also accept a string ``s``, which is\n",
              "    interpreted as ``data[s]`` (unless this raises an exception).\n",
              "\n",
              "**kwargs : `.Rectangle` properties\n",
              "\n",
              "Properties:\n",
              "    agg_filter: a filter function, which takes a (m, n, 3) float array and a dpi value, and returns a (m, n, 3) array and two offsets from the bottom left corner of the image\n",
              "    alpha: scalar or None\n",
              "    angle: unknown\n",
              "    animated: bool\n",
              "    antialiased or aa: bool or None\n",
              "    bounds: (left, bottom, width, height)\n",
              "    capstyle: `.CapStyle` or {&#x27;butt&#x27;, &#x27;projecting&#x27;, &#x27;round&#x27;}\n",
              "    clip_box: `~matplotlib.transforms.BboxBase` or None\n",
              "    clip_on: bool\n",
              "    clip_path: Patch or (Path, Transform) or None\n",
              "    color: color\n",
              "    edgecolor or ec: color or None\n",
              "    facecolor or fc: color or None\n",
              "    figure: `~matplotlib.figure.Figure`\n",
              "    fill: bool\n",
              "    gid: str\n",
              "    hatch: {&#x27;/&#x27;, &#x27;\\\\&#x27;, &#x27;|&#x27;, &#x27;-&#x27;, &#x27;+&#x27;, &#x27;x&#x27;, &#x27;o&#x27;, &#x27;O&#x27;, &#x27;.&#x27;, &#x27;*&#x27;}\n",
              "    height: unknown\n",
              "    in_layout: bool\n",
              "    joinstyle: `.JoinStyle` or {&#x27;miter&#x27;, &#x27;round&#x27;, &#x27;bevel&#x27;}\n",
              "    label: object\n",
              "    linestyle or ls: {&#x27;-&#x27;, &#x27;--&#x27;, &#x27;-.&#x27;, &#x27;:&#x27;, &#x27;&#x27;, (offset, on-off-seq), ...}\n",
              "    linewidth or lw: float or None\n",
              "    mouseover: bool\n",
              "    path_effects: list of `.AbstractPathEffect`\n",
              "    picker: None or bool or float or callable\n",
              "    rasterized: bool\n",
              "    sketch_params: (scale: float, length: float, randomness: float)\n",
              "    snap: bool or None\n",
              "    transform: `~matplotlib.transforms.Transform`\n",
              "    url: str\n",
              "    visible: bool\n",
              "    width: unknown\n",
              "    x: unknown\n",
              "    xy: (float, float)\n",
              "    y: unknown\n",
              "    zorder: float\n",
              "\n",
              "See Also\n",
              "--------\n",
              "barh : Plot a horizontal bar plot.\n",
              "\n",
              "Notes\n",
              "-----\n",
              "Stacked bars can be achieved by passing individual *bottom* values per\n",
              "bar. See :doc:`/gallery/lines_bars_and_markers/bar_stacked`.</pre>\n",
              "      <script>\n",
              "      if (google.colab.kernel.accessAllowed && google.colab.files && google.colab.files.view) {\n",
              "        for (const element of document.querySelectorAll('.filepath')) {\n",
              "          element.style.display = 'block'\n",
              "          element.onclick = (event) => {\n",
              "            event.preventDefault();\n",
              "            event.stopPropagation();\n",
              "            google.colab.files.view(element.textContent, 2731);\n",
              "          };\n",
              "        }\n",
              "      }\n",
              "      for (const element of document.querySelectorAll('.function-repr-contents')) {\n",
              "        element.onclick = (event) => {\n",
              "          event.preventDefault();\n",
              "          event.stopPropagation();\n",
              "          element.classList.toggle('function-repr-contents-collapsed');\n",
              "        };\n",
              "      }\n",
              "      </script>\n",
              "      </div>"
            ]
          },
          "metadata": {},
          "execution_count": 5
        }
      ]
    },
    {
      "cell_type": "code",
      "source": [
        "### Solution ###\n",
        "# plt.bar?\n",
        "plt.bar([0,1],[X[X==0].size,X[X==1].size],width=0.4,color=['blue','orange'])\n",
        "plt.ylabel('Frequency of 0 and 1')\n",
        "plt.title('Bar Graph of Bernouli sampled dataset')"
      ],
      "metadata": {
        "id": "PJh5VT-4U5YT",
        "outputId": "283d385d-57bb-4577-cf92-07b1bcd4c2c1",
        "colab": {
          "base_uri": "https://localhost:8080/",
          "height": 716
        }
      },
      "execution_count": null,
      "outputs": [
        {
          "output_type": "execute_result",
          "data": {
            "text/plain": [
              "Text(0.5, 1.0, 'Bar Graph of Bernouli sampled dataset')"
            ]
          },
          "metadata": {},
          "execution_count": 64
        },
        {
          "output_type": "display_data",
          "data": {
            "text/plain": [
              "<Figure size 800x800 with 1 Axes>"
            ],
            "image/png": "[encoded data removed]"
          },
          "metadata": {}
        }
      ]
    },
    {
      "cell_type": "markdown",
      "source": [
        "## Problem-4\n",
        "\n",
        "What is the impact of the size of the dataset on the MLE? Generate datasets of the following sizes:\n",
        "\n",
        "- $n = 10$\n",
        "- $n = 100$\n",
        "- $n = 1000$\n",
        "- $n = 10000$\n",
        "- $n = 100000$\n",
        "- $n = 1000000$\n",
        "\n",
        "Sample each dataset from a Bernoulli distribution with parameter $p = 0.2$. For each dataset, first compute the MLE and then compute the difference (abs value) between the MLE and the true parameter. That is, compute the value $d$ for different values of $n$\n",
        "\n",
        "$$\n",
        "d(n) = |\\hat{p}_{ML} - p|\n",
        "$$\n",
        "\n",
        "Plot $d(n)$ with respect to $n$. What do you osbserve?\n"
      ],
      "metadata": {
        "id": "YEN10JivYnpf"
      }
    },
    {
      "cell_type": "code",
      "source": [
        "### RNG ###\n",
        "rng = np.random.default_rng(seed = 1001)\n",
        "### Solution ###\n",
        "size_array=[10,100,1000,10000,100000,1000000]\n",
        "diff=[]\n",
        "for size in size_array:\n",
        "  X=rng.choice([0,1],size=size,p=[0.8,0.2])\n",
        "  mle=X.mean()\n",
        "  diff.append(abs(mle-0.2))"
      ],
      "metadata": {
        "id": "cL_dR4SoZZDa"
      },
      "execution_count": null,
      "outputs": []
    },
    {
      "cell_type": "code",
      "source": [
        "diff"
      ],
      "metadata": {
        "id": "Ml-CZDGR_r0J",
        "outputId": "fda65512-2dea-43be-f6c8-2fe8ec780f43",
        "colab": {
          "base_uri": "https://localhost:8080/"
        }
      },
      "execution_count": null,
      "outputs": [
        {
          "output_type": "execute_result",
          "data": {
            "text/plain": [
              "[0.1,\n",
              " 0.06,\n",
              " 0.024999999999999994,\n",
              " 0.0029000000000000137,\n",
              " 0.0004300000000000137,\n",
              " 0.0008599999999999997]"
            ]
          },
          "metadata": {},
          "execution_count": 66
        }
      ]
    },
    {
      "cell_type": "code",
      "source": [
        "plt.plot(size_array,diff,linestyle='--',marker='o')\n",
        "plt.xscale('log')\n",
        "plt.show()"
      ],
      "metadata": {
        "id": "0OTQpr1__5oE",
        "outputId": "c44412c3-8d7c-42b7-e880-4d5232f1bd1f",
        "colab": {
          "base_uri": "https://localhost:8080/",
          "height": 681
        }
      },
      "execution_count": null,
      "outputs": [
        {
          "output_type": "display_data",
          "data": {
            "text/plain": [
              "<Figure size 800x800 with 1 Axes>"
            ],
            "image/png": "[encoded data removed]"
          },
          "metadata": {}
        }
      ]
    },
    {
      "cell_type": "markdown",
      "source": [
        "## Problem-5\n",
        "\n",
        "Sample $1000$ points from a six sided, biased die with faces: $1, 2, 3, 4, 5, 6$. The parameters corresponding to the six faces are:\n",
        "\n",
        "$$\n",
        "[0.1, 0.2, 0.3, 0.3, 0.05, 0.05]\n",
        "$$\n",
        "\n",
        "Note that this is a categorical distribution. Refer to the practice assignment for a similar problem. Find the maximum likelihood estimate of the parameter $p_3$ (corresponds to the third face). Perform all your operations in the cell given below. Enter your answer correct to three decimal places."
      ],
      "metadata": {
        "id": "_pcJqb0kWEvu"
      }
    },
    {
      "cell_type": "code",
      "source": [
        "### RNG ###\n",
        "rng = np.random.default_rng(seed = 1001)\n",
        "### Solution ###\n",
        "X=rng.choice([1,2,3,4,5,6],size=1000,p=[0.1,0.2,0.3,0.3,0.05,0.05])\n",
        "(X[X==3].size)/X.size"
      ],
      "metadata": {
        "id": "zDQQnX4_Xujg",
        "outputId": "35473643-4cc4-4ada-fda0-e1371e9f4994",
        "colab": {
          "base_uri": "https://localhost:8080/"
        }
      },
      "execution_count": null,
      "outputs": [
        {
          "output_type": "execute_result",
          "data": {
            "text/plain": [
              "0.319"
            ]
          },
          "metadata": {},
          "execution_count": 68
        }
      ]
    },
    {
      "cell_type": "markdown",
      "source": [
        "## Problem-6\n",
        "\n",
        "Plot the bar graph for the above sample."
      ],
      "metadata": {
        "id": "MowGk5GjYJT_"
      }
    },
    {
      "cell_type": "code",
      "source": [
        "## Solution ##\n",
        "plt.bar([1,2,3,4,5,6],[X[X==1].size,X[X==2].size,X[X==3].size,\n",
        "               X[X==4].size,X[X==5].size,X[X==6].size],width=0.4)"
      ],
      "metadata": {
        "id": "d6uwHy88Yw7N",
        "outputId": "16c84335-8af1-4faf-f774-a5df3855df3a",
        "colab": {
          "base_uri": "https://localhost:8080/",
          "height": 693
        }
      },
      "execution_count": null,
      "outputs": [
        {
          "output_type": "execute_result",
          "data": {
            "text/plain": [
              "<BarContainer object of 6 artists>"
            ]
          },
          "metadata": {},
          "execution_count": 69
        },
        {
          "output_type": "display_data",
          "data": {
            "text/plain": [
              "<Figure size 800x800 with 1 Axes>"
            ],
            "image/png": "[encoded data removed]"
          },
          "metadata": {}
        }
      ]
    },
    {
      "cell_type": "markdown",
      "source": [
        "We now move to the Gaussian distribution. First, we shall get used to computing the density of a Gaussian given its mean and variance."
      ],
      "metadata": {
        "id": "YOPtgJ_4gSaY"
      }
    },
    {
      "cell_type": "markdown",
      "source": [
        "## Problem-7\n",
        "\n",
        "Consider the following Gaussian distribution:\n",
        "\n",
        "$$\n",
        "\\mathcal{N}(3, 1.5^2)\n",
        "$$\n",
        "\n",
        "Compute the density of the point $5$ with respect to this distribution. Enter your answer correct to three decimal places."
      ],
      "metadata": {
        "id": "GatC9VZtgckX"
      }
    },
    {
      "cell_type": "markdown",
      "source": [
        "$$\n",
        "\\frac{1}{\\sigma \\sqrt{2\\pi }}\\exp\\left(\\frac{-1}{2} \\cdotp \\left(\\frac{x-\\mu }{\\sigma }\\right)^{2}\\right)\n",
        "$$"
      ],
      "metadata": {
        "id": "qhHyRPANFBxI"
      }
    },
    {
      "cell_type": "code",
      "source": [
        "## Solution ##\n",
        "# from scipy.stats import norm\n",
        "#norm?\n",
        "def Gaussian(x,mu,sigma):\n",
        "  return ((1/(sigma * np.sqrt(np.pi * 2)))) * np.exp(-0.5 * ((x-mu)/sigma)**2)"
      ],
      "metadata": {
        "id": "ydI-KzQQgtsb"
      },
      "execution_count": null,
      "outputs": []
    },
    {
      "cell_type": "code",
      "source": [
        "Gaussian(5,3,1.5)"
      ],
      "metadata": {
        "id": "2OuXESgPGgUI",
        "outputId": "3fd98ac9-2b50-4291-9b87-40708387a37d",
        "colab": {
          "base_uri": "https://localhost:8080/"
        }
      },
      "execution_count": null,
      "outputs": [
        {
          "output_type": "execute_result",
          "data": {
            "text/plain": [
              "0.10934004978399577"
            ]
          },
          "metadata": {},
          "execution_count": 71
        }
      ]
    },
    {
      "cell_type": "markdown",
      "source": [
        "Now, we shall move to sampling from a Gaussian distribution."
      ],
      "metadata": {
        "id": "8-FRiUbGg_IO"
      }
    },
    {
      "cell_type": "markdown",
      "source": [
        "## Problem-8\n",
        "\n",
        "Generate a dataset of $1000$ points from a Gaussian distribution with mean $3$ and standard deviation $1.5$. Find the maximum likelihood estimate of the mean for this dataset. Enter your answer correct to three decimal places. Use the cell given below for all your computations. You can search for the method to use from the NumPy docs. It is quite similar to what we did for the case of the Bernoulli and categorical distributions."
      ],
      "metadata": {
        "id": "ccDt9scAhLVG"
      }
    },
    {
      "cell_type": "code",
      "source": [
        "### RNG ###\n",
        "rng = np.random.default_rng(seed = 1001)\n",
        "### Solution ###\n",
        "X=rng.normal(3,1.5,1000)"
      ],
      "metadata": {
        "id": "XrufSsuYhacc"
      },
      "execution_count": null,
      "outputs": []
    },
    {
      "cell_type": "code",
      "source": [
        "X.mean()"
      ],
      "metadata": {
        "id": "qz5Qz_L9HV1a",
        "outputId": "178e9ebd-1529-4558-bd37-063f7c2ef679",
        "colab": {
          "base_uri": "https://localhost:8080/"
        }
      },
      "execution_count": null,
      "outputs": [
        {
          "output_type": "execute_result",
          "data": {
            "text/plain": [
              "2.9444187484087863"
            ]
          },
          "metadata": {},
          "execution_count": 73
        }
      ]
    },
    {
      "cell_type": "markdown",
      "source": [
        "## Problem-9\n",
        "\n",
        "Plot the histogram of the dataset given above. Use the `plt.hist` method."
      ],
      "metadata": {
        "id": "tnFOXcFLhkiD"
      }
    },
    {
      "cell_type": "code",
      "source": [
        "## Solution ##\n",
        "plt.hist(X,bins=50);"
      ],
      "metadata": {
        "id": "MacX7cbhhoeh",
        "outputId": "ef736433-d741-48dd-c679-820310516a30",
        "colab": {
          "base_uri": "https://localhost:8080/",
          "height": 676
        }
      },
      "execution_count": null,
      "outputs": [
        {
          "output_type": "display_data",
          "data": {
            "text/plain": [
              "<Figure size 800x800 with 1 Axes>"
            ],
            "image/png": "[encoded data removed]"
          },
          "metadata": {}
        }
      ]
    },
    {
      "cell_type": "markdown",
      "source": [
        "We will now turn to understanding the shapes of the Beta distribution for different values of parameters $\\alpha$ and $\\beta$."
      ],
      "metadata": {
        "id": "vGWU-0B0P7xR"
      }
    },
    {
      "cell_type": "markdown",
      "source": [
        "## Problem-10\n",
        "\n",
        "Plot the beta distribution for the following values:\n",
        "\n",
        "- $\\alpha = 5, \\beta = 5$\n",
        "- $\\alpha = 5, \\beta = 1.5$\n",
        "- $\\alpha = 1.5, \\beta = 5$\n",
        "- $\\alpha = 0.5, \\beta = 0.5$\n",
        "\n",
        "\n",
        "Do not worry about the normalization constant. Use `plt.subplot(2, 2, i)` to plot all four distributions in a single figure. `i` should take the values 1, 2, 3 and 4 for these four subplots. If you are not sure how it works, google it. Stackoverflow will be of great help here."
      ],
      "metadata": {
        "id": "2YGpPqHpQTjr"
      }
    },
    {
      "cell_type": "code",
      "source": [
        "## Solution ##\n",
        "param=[(5,5),(5,1.5),(1.5,5),(0.5,0.5)]\n",
        "\n",
        "# x=np.linspace(-2,2,10) #divide 0 and 1 into 10 equally points like 0, 0.1, 0.2,...1\n",
        "# #y=x^2\n",
        "# plt.plot(x,x**2)\n",
        "\n",
        "x=np.linspace(0,1,100)\n",
        "for i,(alpha,beta) in enumerate(param):\n",
        "  y=(x ** (alpha-1)) * ((1-x)**(beta-1))\n",
        "  plt.subplot(2,2,i+1)\n",
        "  plt.plot(x,y,color='skyblue')\n",
        "  plt.title(f'alpha={alpha} and beta={beta}')\n"
      ],
      "metadata": {
        "id": "2br4TZm4QRQF",
        "outputId": "4a02c088-7d45-4f46-a1fc-72b9d7300df5",
        "colab": {
          "base_uri": "https://localhost:8080/",
          "height": 734
        }
      },
      "execution_count": null,
      "outputs": [
        {
          "output_type": "stream",
          "name": "stderr",
          "text": [
            "<ipython-input-95-c76847161fc0>:10: RuntimeWarning: divide by zero encountered in power\n",
            "  y=(x ** (alpha-1)) * ((1-x)**(beta-1))\n"
          ]
        },
        {
          "output_type": "display_data",
          "data": {
            "text/plain": [
              "<Figure size 800x800 with 4 Axes>"
            ],
            "image/png": "[encoded data removed]"
          },
          "metadata": {}
        }
      ]
    },
    {
      "cell_type": "code",
      "source": [
        "l=[5,6,7]\n",
        "for i in enumerate(l):\n",
        "  print(i)"
      ],
      "metadata": {
        "id": "hfV03f9SMUdF",
        "outputId": "4eee4441-bb8c-4f46-9a74-a78aabaf646d",
        "colab": {
          "base_uri": "https://localhost:8080/"
        }
      },
      "execution_count": null,
      "outputs": [
        {
          "output_type": "stream",
          "name": "stdout",
          "text": [
            "(0, 5)\n",
            "(1, 6)\n",
            "(2, 7)\n"
          ]
        }
      ]
    }
  ]
}